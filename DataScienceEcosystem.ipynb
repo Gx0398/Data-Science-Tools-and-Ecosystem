{
 "cells": [
  {
   "cell_type": "markdown",
   "id": "4471fc17-d086-4d02-948e-7fa8673f5cb0",
   "metadata": {},
   "source": [
    "# Data Science Tools and Ecosystem"
   ]
  },
  {
   "cell_type": "markdown",
   "id": "8d21232d-fa7b-49b6-9672-c052517636cf",
   "metadata": {},
   "source": [
    "In this notebook, Data Science Tools and Ecosystem are summarized."
   ]
  },
  {
   "cell_type": "markdown",
   "id": "a04d2365-73aa-4220-89e4-fef5c49f6011",
   "metadata": {},
   "source": [
    "**Objectives:**\n",
    "\n",
    "- List popular languages for Data Science.\n",
    "- Introduce common development environments for Data Science.\n",
    "- Demonstrate basic arithmetic operations in Python.\n",
    "- Illustrate conversion of units using Python."
   ]
  },
  {
   "cell_type": "markdown",
   "id": "be762a80-3e32-4a2a-9a32-9059b152d0e6",
   "metadata": {},
   "source": [
    "Some of the popular languages that Data Scientists use are:\n",
    "\n",
    "1. Python \n",
    "2. Rstudio\n",
    "3. C/C++"
   ]
  },
  {
   "cell_type": "markdown",
   "id": "cd76ee3b-54f9-4cd1-878e-49d51f441e7e",
   "metadata": {},
   "source": [
    "Some of the commonly used libraries used by Data Scientists include:\n",
    "\n",
    "1. ggplot\n",
    "2. Pandas\n",
    "3. Ploty\n",
    "4. Caret"
   ]
  },
  {
   "cell_type": "markdown",
   "id": "32e92c88-ab29-453f-9ba2-1dec839f6cb6",
   "metadata": {},
   "source": [
    "| Data Science Tools |\n",
    "|-------------------|\n",
    "| Jupyter Notebook  |\n",
    "| RStudio           |\n",
    "| VS Code + Python  |"
   ]
  },
  {
   "cell_type": "markdown",
   "id": "3ec49bd4-3f98-45f9-9fac-721061a449a3",
   "metadata": {},
   "source": [
    "### Below are a few examples of evaluating arithmetic expressions in Python"
   ]
  },
  {
   "cell_type": "code",
   "execution_count": 4,
   "id": "32dc853c-7352-445c-8359-ba0c83015457",
   "metadata": {},
   "outputs": [
    {
     "data": {
      "text/plain": [
       "17"
      ]
     },
     "execution_count": 4,
     "metadata": {},
     "output_type": "execute_result"
    }
   ],
   "source": [
    "# This a simple arithmetic expression to mutiply then add integers\n",
    "(3*4)+5"
   ]
  },
  {
   "cell_type": "code",
   "execution_count": 5,
   "id": "a32d69f4-9c68-4418-ba40-d9fa175f7f88",
   "metadata": {},
   "outputs": [
    {
     "data": {
      "text/plain": [
       "3.3333333333333335"
      ]
     },
     "execution_count": 5,
     "metadata": {},
     "output_type": "execute_result"
    }
   ],
   "source": [
    "# This will convert 200 minutes to hours by dividing by 60.\n",
    "hours = 200 / 60\n",
    "hours"
   ]
  },
  {
   "cell_type": "markdown",
   "id": "010c42bf-8e6e-4f08-b468-bc4073cfd53d",
   "metadata": {},
   "source": [
    "## Author\n",
    "\n",
    "Gustavo Vintimilla"
   ]
  },
  {
   "cell_type": "code",
   "execution_count": null,
   "id": "187f5ddc-dc63-45b1-abd8-1dc572a3f514",
   "metadata": {},
   "outputs": [],
   "source": []
  }
 ],
 "metadata": {
  "kernelspec": {
   "display_name": "Python 3 (ipykernel)",
   "language": "python",
   "name": "python3"
  },
  "language_info": {
   "codemirror_mode": {
    "name": "ipython",
    "version": 3
   },
   "file_extension": ".py",
   "mimetype": "text/x-python",
   "name": "python",
   "nbconvert_exporter": "python",
   "pygments_lexer": "ipython3",
   "version": "3.11.7"
  }
 },
 "nbformat": 4,
 "nbformat_minor": 5
}
